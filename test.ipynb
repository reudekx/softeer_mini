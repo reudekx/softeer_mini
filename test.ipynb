{
 "cells": [
  {
   "cell_type": "code",
   "execution_count": 40,
   "metadata": {},
   "outputs": [],
   "source": [
    "from app.extractor import fotmob_extractor\n",
    "import pandas as pd\n",
    "from tabulate import tabulate"
   ]
  },
  {
   "cell_type": "code",
   "execution_count": null,
   "metadata": {},
   "outputs": [],
   "source": [
    "URL = \"https://www.fotmob.com/ko/players/212867/heung-min-son\"\n",
    "SAVE_PATH = \"data/{site}/html/{name}_{date}.html\"\n",
    "\n",
    "\n",
    "name = \"heung-min-son\"\n",
    "site = \"fotmob\"\n",
    "\n",
    "data = fotmob_extractor.extract(URL, site, name, SAVE_PATH)"
   ]
  },
  {
   "cell_type": "code",
   "execution_count": null,
   "metadata": {},
   "outputs": [],
   "source": [
    "for category, stats in data.items():\n",
    "   df = pd.DataFrame(list(stats.items()), columns=[category, '값'])\n",
    "   display(df)"
   ]
  }
 ],
 "metadata": {
  "kernelspec": {
   "display_name": ".venv",
   "language": "python",
   "name": "python3"
  },
  "language_info": {
   "codemirror_mode": {
    "name": "ipython",
    "version": 3
   },
   "file_extension": ".py",
   "mimetype": "text/x-python",
   "name": "python",
   "nbconvert_exporter": "python",
   "pygments_lexer": "ipython3",
   "version": "3.8.19"
  }
 },
 "nbformat": 4,
 "nbformat_minor": 2
}
